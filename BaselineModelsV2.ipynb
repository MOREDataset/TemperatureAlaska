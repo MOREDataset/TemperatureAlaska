{
 "cells": [
  {
   "cell_type": "markdown",
   "metadata": {
    "id": "7KEMUcdUV6-2"
   },
   "source": [
    "# CONFIGURATION"
   ]
  },
  {
   "cell_type": "code",
   "execution_count": 1,
   "metadata": {
    "colab": {
     "base_uri": "https://localhost:8080/",
     "height": 329
    },
    "id": "1PYydqHjUMan",
    "outputId": "a862e5bc-d6db-432d-8523-74ce46216b41"
   },
   "outputs": [],
   "source": [
    "# from google.colab import drive\n",
    "# drive.mount('/content/gdrive')"
   ]
  },
  {
   "cell_type": "code",
   "execution_count": 1,
   "metadata": {
    "id": "eQqGnbmVT0dL"
   },
   "outputs": [
    {
     "name": "stdout",
     "output_type": "stream",
     "text": [
      "Defaulting to user installation because normal site-packages is not writeable\n",
      "Looking in indexes: https://pypi.org/simple, https://pypi.ngc.nvidia.com\n",
      "Requirement already satisfied: scalecast in /home/mohamed.ahajjam/.local/lib/python3.7/site-packages (0.14.7)\n",
      "Requirement already satisfied: xgboost in /home/mohamed.ahajjam/.local/lib/python3.7/site-packages (from scalecast) (1.6.2)\n",
      "Requirement already satisfied: scipy in /home/mohamed.ahajjam/.local/lib/python3.7/site-packages (from scalecast) (1.7.3)\n",
      "Requirement already satisfied: pandas-datareader in /home/mohamed.ahajjam/.local/lib/python3.7/site-packages (from scalecast) (0.10.0)\n",
      "Requirement already satisfied: pandas in /cm/local/apps/python37/lib/python3.7/site-packages (from scalecast) (1.3.1)\n",
      "Requirement already satisfied: seaborn in /home/mohamed.ahajjam/.local/lib/python3.7/site-packages (from scalecast) (0.12.0)\n",
      "Requirement already satisfied: scikit-learn in /home/mohamed.ahajjam/.local/lib/python3.7/site-packages (from scalecast) (1.0.2)\n",
      "Requirement already satisfied: matplotlib in /cm/local/apps/python37/lib/python3.7/site-packages (from scalecast) (3.4.2)\n",
      "Requirement already satisfied: statsmodels in /home/mohamed.ahajjam/.local/lib/python3.7/site-packages (from scalecast) (0.13.2)\n",
      "Requirement already satisfied: lightgbm in /home/mohamed.ahajjam/.local/lib/python3.7/site-packages (from scalecast) (3.3.3)\n",
      "Requirement already satisfied: openpyxl in /home/mohamed.ahajjam/.local/lib/python3.7/site-packages (from scalecast) (3.0.10)\n",
      "Requirement already satisfied: eli5 in /home/mohamed.ahajjam/.local/lib/python3.7/site-packages (from scalecast) (0.13.0)\n",
      "Requirement already satisfied: numpy in /cm/local/apps/python37/lib/python3.7/site-packages (from scalecast) (1.21.6)\n",
      "Requirement already satisfied: tensorflow in /home/mohamed.ahajjam/.local/lib/python3.7/site-packages (from scalecast) (2.11.0)\n",
      "Requirement already satisfied: tabulate>=0.7.7 in /cm/local/apps/python37/lib/python3.7/site-packages (from eli5->scalecast) (0.8.9)\n",
      "Requirement already satisfied: jinja2>=3.0.0 in /cm/local/apps/python37/lib/python3.7/site-packages (from eli5->scalecast) (3.0.3)\n",
      "Requirement already satisfied: attrs>17.1.0 in /cm/local/apps/python37/lib/python3.7/site-packages (from eli5->scalecast) (21.4.0)\n",
      "Requirement already satisfied: six in /cm/local/apps/python37/lib/python3.7/site-packages (from eli5->scalecast) (1.15.0)\n",
      "Requirement already satisfied: graphviz in /home/mohamed.ahajjam/.local/lib/python3.7/site-packages (from eli5->scalecast) (0.20.1)\n",
      "Requirement already satisfied: joblib>=0.11 in /home/mohamed.ahajjam/.local/lib/python3.7/site-packages (from scikit-learn->scalecast) (1.2.0)\n",
      "Requirement already satisfied: threadpoolctl>=2.0.0 in /home/mohamed.ahajjam/.local/lib/python3.7/site-packages (from scikit-learn->scalecast) (3.1.0)\n",
      "Requirement already satisfied: wheel in /cm/local/apps/python37/lib/python3.7/site-packages (from lightgbm->scalecast) (0.36.2)\n",
      "Requirement already satisfied: cycler>=0.10 in /cm/local/apps/python37/lib/python3.7/site-packages (from matplotlib->scalecast) (0.10.0)\n",
      "Requirement already satisfied: python-dateutil>=2.7 in /cm/local/apps/python37/lib/python3.7/site-packages (from matplotlib->scalecast) (2.8.2)\n",
      "Requirement already satisfied: pyparsing>=2.2.1 in /cm/local/apps/python37/lib/python3.7/site-packages (from matplotlib->scalecast) (3.0.6)\n",
      "Requirement already satisfied: kiwisolver>=1.0.1 in /cm/local/apps/python37/lib/python3.7/site-packages (from matplotlib->scalecast) (1.3.1)\n",
      "Requirement already satisfied: pillow>=6.2.0 in /home/mohamed.ahajjam/.local/lib/python3.7/site-packages (from matplotlib->scalecast) (9.2.0)\n",
      "Requirement already satisfied: et-xmlfile in /home/mohamed.ahajjam/.local/lib/python3.7/site-packages (from openpyxl->scalecast) (1.1.0)\n",
      "Requirement already satisfied: pytz>=2017.3 in /cm/local/apps/python37/lib/python3.7/site-packages (from pandas->scalecast) (2021.3)\n",
      "Requirement already satisfied: requests>=2.19.0 in /cm/local/apps/python37/lib/python3.7/site-packages (from pandas-datareader->scalecast) (2.26.0)\n",
      "Requirement already satisfied: lxml in /cm/local/apps/python37/lib/python3.7/site-packages (from pandas-datareader->scalecast) (4.7.1)\n",
      "Requirement already satisfied: typing_extensions in /cm/local/apps/python37/lib/python3.7/site-packages (from seaborn->scalecast) (3.7.4.3)\n",
      "Requirement already satisfied: packaging>=21.3 in /cm/local/apps/python37/lib/python3.7/site-packages (from statsmodels->scalecast) (21.3)\n",
      "Requirement already satisfied: patsy>=0.5.2 in /home/mohamed.ahajjam/.local/lib/python3.7/site-packages (from statsmodels->scalecast) (0.5.3)\n",
      "Requirement already satisfied: h5py>=2.9.0 in /cm/local/apps/python37/lib/python3.7/site-packages (from tensorflow->scalecast) (3.1.0)\n",
      "Requirement already satisfied: tensorflow-estimator<2.12,>=2.11.0 in /home/mohamed.ahajjam/.local/lib/python3.7/site-packages (from tensorflow->scalecast) (2.11.0)\n",
      "Requirement already satisfied: wrapt>=1.11.0 in /cm/local/apps/python37/lib/python3.7/site-packages (from tensorflow->scalecast) (1.12.1)\n",
      "Requirement already satisfied: astunparse>=1.6.0 in /cm/local/apps/python37/lib/python3.7/site-packages (from tensorflow->scalecast) (1.6.3)\n",
      "Requirement already satisfied: protobuf<3.20,>=3.9.2 in /home/mohamed.ahajjam/.local/lib/python3.7/site-packages (from tensorflow->scalecast) (3.11.2)\n",
      "Requirement already satisfied: gast<=0.4.0,>=0.2.1 in /cm/local/apps/python37/lib/python3.7/site-packages (from tensorflow->scalecast) (0.4.0)\n",
      "Requirement already satisfied: termcolor>=1.1.0 in /cm/local/apps/python37/lib/python3.7/site-packages (from tensorflow->scalecast) (1.1.0)\n",
      "Requirement already satisfied: tensorboard<2.12,>=2.11 in /home/mohamed.ahajjam/.local/lib/python3.7/site-packages (from tensorflow->scalecast) (2.11.2)\n",
      "Requirement already satisfied: tensorflow-io-gcs-filesystem>=0.23.1 in /cm/local/apps/python37/lib/python3.7/site-packages (from tensorflow->scalecast) (0.26.0)\n",
      "Requirement already satisfied: opt-einsum>=2.3.2 in /cm/local/apps/python37/lib/python3.7/site-packages (from tensorflow->scalecast) (3.3.0)\n",
      "Requirement already satisfied: flatbuffers>=2.0 in /home/mohamed.ahajjam/.local/lib/python3.7/site-packages (from tensorflow->scalecast) (23.1.4)\n",
      "Requirement already satisfied: setuptools in /home/mohamed.ahajjam/.local/lib/python3.7/site-packages (from tensorflow->scalecast) (59.8.0)\n",
      "Requirement already satisfied: libclang>=13.0.0 in /cm/local/apps/python37/lib/python3.7/site-packages (from tensorflow->scalecast) (14.0.1)\n",
      "Requirement already satisfied: absl-py>=1.0.0 in /cm/local/apps/python37/lib/python3.7/site-packages (from tensorflow->scalecast) (1.1.0)\n",
      "Requirement already satisfied: google-pasta>=0.1.1 in /cm/local/apps/python37/lib/python3.7/site-packages (from tensorflow->scalecast) (0.2.0)\n",
      "Requirement already satisfied: keras<2.12,>=2.11.0 in /home/mohamed.ahajjam/.local/lib/python3.7/site-packages (from tensorflow->scalecast) (2.11.0)\n",
      "Requirement already satisfied: grpcio<2.0,>=1.24.3 in /cm/local/apps/python37/lib/python3.7/site-packages (from tensorflow->scalecast) (1.34.1)\n",
      "Requirement already satisfied: cached-property in /cm/local/apps/python37/lib/python3.7/site-packages (from h5py>=2.9.0->tensorflow->scalecast) (1.5.2)\n",
      "Requirement already satisfied: MarkupSafe>=2.0 in /cm/local/apps/python37/lib/python3.7/site-packages (from jinja2>=3.0.0->eli5->scalecast) (2.0.1)\n",
      "Requirement already satisfied: charset-normalizer~=2.0.0 in /cm/local/apps/python37/lib/python3.7/site-packages (from requests>=2.19.0->pandas-datareader->scalecast) (2.0.10)\n",
      "Requirement already satisfied: idna<4,>=2.5 in /cm/local/apps/python37/lib/python3.7/site-packages (from requests>=2.19.0->pandas-datareader->scalecast) (3.3)\n",
      "Requirement already satisfied: certifi>=2017.4.17 in /cm/local/apps/python37/lib/python3.7/site-packages (from requests>=2.19.0->pandas-datareader->scalecast) (2021.10.8)\n",
      "Requirement already satisfied: urllib3<1.27,>=1.21.1 in /cm/local/apps/python37/lib/python3.7/site-packages (from requests>=2.19.0->pandas-datareader->scalecast) (1.25.11)\n",
      "Requirement already satisfied: tensorboard-data-server<0.7.0,>=0.6.0 in /cm/local/apps/python37/lib/python3.7/site-packages (from tensorboard<2.12,>=2.11->tensorflow->scalecast) (0.6.1)\n",
      "Requirement already satisfied: google-auth-oauthlib<0.5,>=0.4.1 in /cm/local/apps/python37/lib/python3.7/site-packages (from tensorboard<2.12,>=2.11->tensorflow->scalecast) (0.4.5)\n",
      "Requirement already satisfied: markdown>=2.6.8 in /cm/local/apps/python37/lib/python3.7/site-packages (from tensorboard<2.12,>=2.11->tensorflow->scalecast) (3.3.4)\n"
     ]
    },
    {
     "name": "stdout",
     "output_type": "stream",
     "text": [
      "Requirement already satisfied: tensorboard-plugin-wit>=1.6.0 in /cm/local/apps/python37/lib/python3.7/site-packages (from tensorboard<2.12,>=2.11->tensorflow->scalecast) (1.8.0)\n",
      "Requirement already satisfied: werkzeug>=1.0.1 in /cm/local/apps/python37/lib/python3.7/site-packages (from tensorboard<2.12,>=2.11->tensorflow->scalecast) (2.0.1)\n",
      "Requirement already satisfied: google-auth<3,>=1.6.3 in /cm/local/apps/python37/lib/python3.7/site-packages (from tensorboard<2.12,>=2.11->tensorflow->scalecast) (1.34.0)\n",
      "Requirement already satisfied: rsa<5,>=3.1.4 in /cm/local/apps/python37/lib/python3.7/site-packages (from google-auth<3,>=1.6.3->tensorboard<2.12,>=2.11->tensorflow->scalecast) (4.7.2)\n",
      "Requirement already satisfied: cachetools<5.0,>=2.0.0 in /cm/local/apps/python37/lib/python3.7/site-packages (from google-auth<3,>=1.6.3->tensorboard<2.12,>=2.11->tensorflow->scalecast) (4.2.2)\n",
      "Requirement already satisfied: pyasn1-modules>=0.2.1 in /cm/local/apps/python37/lib/python3.7/site-packages (from google-auth<3,>=1.6.3->tensorboard<2.12,>=2.11->tensorflow->scalecast) (0.2.8)\n",
      "Requirement already satisfied: requests-oauthlib>=0.7.0 in /cm/local/apps/python37/lib/python3.7/site-packages (from google-auth-oauthlib<0.5,>=0.4.1->tensorboard<2.12,>=2.11->tensorflow->scalecast) (1.1.0)\n",
      "Requirement already satisfied: importlib-metadata in /cm/local/apps/python37/lib/python3.7/site-packages (from markdown>=2.6.8->tensorboard<2.12,>=2.11->tensorflow->scalecast) (4.10.1)\n",
      "Requirement already satisfied: pyasn1<0.5.0,>=0.4.6 in /cm/local/apps/python37/lib/python3.7/site-packages (from pyasn1-modules>=0.2.1->google-auth<3,>=1.6.3->tensorboard<2.12,>=2.11->tensorflow->scalecast) (0.4.8)\n",
      "Requirement already satisfied: oauthlib<3.0.0,>=2.1.0 in /cm/local/apps/python37/lib/python3.7/site-packages (from requests-oauthlib>=0.7.0->google-auth-oauthlib<0.5,>=0.4.1->tensorboard<2.12,>=2.11->tensorflow->scalecast) (2.1.0)\n",
      "Requirement already satisfied: zipp>=0.5 in /cm/local/apps/python37/lib/python3.7/site-packages (from importlib-metadata->markdown>=2.6.8->tensorboard<2.12,>=2.11->tensorflow->scalecast) (3.7.0)\n",
      "Defaulting to user installation because normal site-packages is not writeable\n",
      "Looking in indexes: https://pypi.org/simple, https://pypi.ngc.nvidia.com\n",
      "Requirement already satisfied: sktime in /home/mohamed.ahajjam/.local/lib/python3.7/site-packages (0.13.4)\n",
      "Requirement already satisfied: scipy<1.9.0 in /home/mohamed.ahajjam/.local/lib/python3.7/site-packages (from sktime) (1.7.3)\n",
      "Requirement already satisfied: scikit-learn<1.2.0,>=0.24.0 in /home/mohamed.ahajjam/.local/lib/python3.7/site-packages (from sktime) (1.0.2)\n",
      "Requirement already satisfied: deprecated>=1.2.13 in /home/mohamed.ahajjam/.local/lib/python3.7/site-packages (from sktime) (1.2.13)\n",
      "Requirement already satisfied: statsmodels>=0.12.1 in /home/mohamed.ahajjam/.local/lib/python3.7/site-packages (from sktime) (0.13.2)\n",
      "Requirement already satisfied: pandas<1.6.0,>=1.1.0 in /cm/local/apps/python37/lib/python3.7/site-packages (from sktime) (1.3.1)\n",
      "Requirement already satisfied: numpy<1.23,>=1.21.0 in /cm/local/apps/python37/lib/python3.7/site-packages (from sktime) (1.21.6)\n",
      "Requirement already satisfied: numba>=0.53 in /home/mohamed.ahajjam/.local/lib/python3.7/site-packages (from sktime) (0.56.2)\n",
      "Requirement already satisfied: wrapt<2,>=1.10 in /cm/local/apps/python37/lib/python3.7/site-packages (from deprecated>=1.2.13->sktime) (1.12.1)\n",
      "Requirement already satisfied: setuptools<60 in /home/mohamed.ahajjam/.local/lib/python3.7/site-packages (from numba>=0.53->sktime) (59.8.0)\n",
      "Requirement already satisfied: llvmlite<0.40,>=0.39.0dev0 in /home/mohamed.ahajjam/.local/lib/python3.7/site-packages (from numba>=0.53->sktime) (0.39.1)\n",
      "Requirement already satisfied: importlib-metadata in /cm/local/apps/python37/lib/python3.7/site-packages (from numba>=0.53->sktime) (4.10.1)\n",
      "Requirement already satisfied: pytz>=2017.3 in /cm/local/apps/python37/lib/python3.7/site-packages (from pandas<1.6.0,>=1.1.0->sktime) (2021.3)\n",
      "Requirement already satisfied: python-dateutil>=2.7.3 in /cm/local/apps/python37/lib/python3.7/site-packages (from pandas<1.6.0,>=1.1.0->sktime) (2.8.2)\n",
      "Requirement already satisfied: threadpoolctl>=2.0.0 in /home/mohamed.ahajjam/.local/lib/python3.7/site-packages (from scikit-learn<1.2.0,>=0.24.0->sktime) (3.1.0)\n",
      "Requirement already satisfied: joblib>=0.11 in /home/mohamed.ahajjam/.local/lib/python3.7/site-packages (from scikit-learn<1.2.0,>=0.24.0->sktime) (1.2.0)\n",
      "Requirement already satisfied: patsy>=0.5.2 in /home/mohamed.ahajjam/.local/lib/python3.7/site-packages (from statsmodels>=0.12.1->sktime) (0.5.3)\n",
      "Requirement already satisfied: packaging>=21.3 in /cm/local/apps/python37/lib/python3.7/site-packages (from statsmodels>=0.12.1->sktime) (21.3)\n",
      "Requirement already satisfied: pyparsing!=3.0.5,>=2.0.2 in /cm/local/apps/python37/lib/python3.7/site-packages (from packaging>=21.3->statsmodels>=0.12.1->sktime) (3.0.6)\n",
      "Requirement already satisfied: six in /cm/local/apps/python37/lib/python3.7/site-packages (from patsy>=0.5.2->statsmodels>=0.12.1->sktime) (1.15.0)\n",
      "Requirement already satisfied: typing-extensions>=3.6.4 in /cm/local/apps/python37/lib/python3.7/site-packages (from importlib-metadata->numba>=0.53->sktime) (3.7.4.3)\n",
      "Requirement already satisfied: zipp>=0.5 in /cm/local/apps/python37/lib/python3.7/site-packages (from importlib-metadata->numba>=0.53->sktime) (3.7.0)\n",
      "Defaulting to user installation because normal site-packages is not writeable\n",
      "Looking in indexes: https://pypi.org/simple, https://pypi.ngc.nvidia.com\n",
      "Requirement already satisfied: pmdarima in /home/mohamed.ahajjam/.local/lib/python3.7/site-packages (2.0.1)\n",
      "Requirement already satisfied: urllib3 in /cm/local/apps/python37/lib/python3.7/site-packages (from pmdarima) (1.25.11)\n",
      "Requirement already satisfied: numpy>=1.21 in /cm/local/apps/python37/lib/python3.7/site-packages (from pmdarima) (1.21.6)\n",
      "Requirement already satisfied: scikit-learn>=0.22 in /home/mohamed.ahajjam/.local/lib/python3.7/site-packages (from pmdarima) (1.0.2)\n",
      "Requirement already satisfied: joblib>=0.11 in /home/mohamed.ahajjam/.local/lib/python3.7/site-packages (from pmdarima) (1.2.0)\n",
      "Requirement already satisfied: scipy>=1.3.2 in /home/mohamed.ahajjam/.local/lib/python3.7/site-packages (from pmdarima) (1.7.3)\n",
      "Requirement already satisfied: Cython!=0.29.18,!=0.29.31,>=0.29 in /home/mohamed.ahajjam/.local/lib/python3.7/site-packages (from pmdarima) (0.29.32)\n",
      "Requirement already satisfied: setuptools!=50.0.0,>=38.6.0 in /home/mohamed.ahajjam/.local/lib/python3.7/site-packages (from pmdarima) (59.8.0)\n",
      "Requirement already satisfied: pandas>=0.19 in /cm/local/apps/python37/lib/python3.7/site-packages (from pmdarima) (1.3.1)\n",
      "Requirement already satisfied: statsmodels>=0.13.2 in /home/mohamed.ahajjam/.local/lib/python3.7/site-packages (from pmdarima) (0.13.2)\n",
      "Requirement already satisfied: python-dateutil>=2.7.3 in /cm/local/apps/python37/lib/python3.7/site-packages (from pandas>=0.19->pmdarima) (2.8.2)\n",
      "Requirement already satisfied: pytz>=2017.3 in /cm/local/apps/python37/lib/python3.7/site-packages (from pandas>=0.19->pmdarima) (2021.3)\n",
      "Requirement already satisfied: threadpoolctl>=2.0.0 in /home/mohamed.ahajjam/.local/lib/python3.7/site-packages (from scikit-learn>=0.22->pmdarima) (3.1.0)\n",
      "Requirement already satisfied: packaging>=21.3 in /cm/local/apps/python37/lib/python3.7/site-packages (from statsmodels>=0.13.2->pmdarima) (21.3)\n",
      "Requirement already satisfied: patsy>=0.5.2 in /home/mohamed.ahajjam/.local/lib/python3.7/site-packages (from statsmodels>=0.13.2->pmdarima) (0.5.3)\n",
      "Requirement already satisfied: pyparsing!=3.0.5,>=2.0.2 in /cm/local/apps/python37/lib/python3.7/site-packages (from packaging>=21.3->statsmodels>=0.13.2->pmdarima) (3.0.6)\n",
      "Requirement already satisfied: six in /cm/local/apps/python37/lib/python3.7/site-packages (from patsy>=0.5.2->statsmodels>=0.13.2->pmdarima) (1.15.0)\n"
     ]
    }
   ],
   "source": [
    "!pip install scalecast\n",
    "\n",
    "import pandas as pd\n",
    "import numpy as np\n",
    "from scalecast.Forecaster import Forecaster\n",
    "from scalecast.auxmodels import auto_arima\n",
    "import matplotlib.pyplot as plt\n",
    "import seaborn as sns\n",
    "import warnings\n",
    "\n",
    "warnings.filterwarnings('ignore')\n",
    "\n",
    "!pip install sktime\n",
    "!pip install pmdarima"
   ]
  },
  {
   "cell_type": "markdown",
   "metadata": {
    "id": "y4e_7QtbWBDe"
   },
   "source": [
    "# Load and preprocess"
   ]
  },
  {
   "cell_type": "code",
   "execution_count": 17,
   "metadata": {},
   "outputs": [],
   "source": [
    "location = 'Nome'#Nome#Bethel#Utqiagvik"
   ]
  },
  {
   "cell_type": "code",
   "execution_count": 18,
   "metadata": {
    "colab": {
     "base_uri": "https://localhost:8080/",
     "height": 455
    },
    "id": "jAyC3DzsUiDb",
    "outputId": "9144c93c-a04b-4ee1-aea6-c8794165c85b"
   },
   "outputs": [
    {
     "data": {
      "text/html": [
       "<div>\n",
       "<style scoped>\n",
       "    .dataframe tbody tr th:only-of-type {\n",
       "        vertical-align: middle;\n",
       "    }\n",
       "\n",
       "    .dataframe tbody tr th {\n",
       "        vertical-align: top;\n",
       "    }\n",
       "\n",
       "    .dataframe thead th {\n",
       "        text-align: right;\n",
       "    }\n",
       "</style>\n",
       "<table border=\"1\" class=\"dataframe\">\n",
       "  <thead>\n",
       "    <tr style=\"text-align: right;\">\n",
       "      <th></th>\n",
       "      <th>Var1</th>\n",
       "    </tr>\n",
       "    <tr>\n",
       "      <th>Time</th>\n",
       "      <th></th>\n",
       "    </tr>\n",
       "  </thead>\n",
       "  <tbody>\n",
       "    <tr>\n",
       "      <th>1979-01-02</th>\n",
       "      <td>270.417328</td>\n",
       "    </tr>\n",
       "    <tr>\n",
       "      <th>1979-01-03</th>\n",
       "      <td>274.589325</td>\n",
       "    </tr>\n",
       "    <tr>\n",
       "      <th>1979-01-04</th>\n",
       "      <td>274.608826</td>\n",
       "    </tr>\n",
       "    <tr>\n",
       "      <th>1979-01-05</th>\n",
       "      <td>273.684906</td>\n",
       "    </tr>\n",
       "    <tr>\n",
       "      <th>1979-01-06</th>\n",
       "      <td>272.691620</td>\n",
       "    </tr>\n",
       "    <tr>\n",
       "      <th>...</th>\n",
       "      <td>...</td>\n",
       "    </tr>\n",
       "    <tr>\n",
       "      <th>2015-10-25</th>\n",
       "      <td>278.529205</td>\n",
       "    </tr>\n",
       "    <tr>\n",
       "      <th>2015-10-26</th>\n",
       "      <td>278.306274</td>\n",
       "    </tr>\n",
       "    <tr>\n",
       "      <th>2015-10-27</th>\n",
       "      <td>277.523102</td>\n",
       "    </tr>\n",
       "    <tr>\n",
       "      <th>2015-10-28</th>\n",
       "      <td>276.555603</td>\n",
       "    </tr>\n",
       "    <tr>\n",
       "      <th>2015-10-29</th>\n",
       "      <td>272.824921</td>\n",
       "    </tr>\n",
       "  </tbody>\n",
       "</table>\n",
       "<p>13450 rows × 1 columns</p>\n",
       "</div>"
      ],
      "text/plain": [
       "                  Var1\n",
       "Time                  \n",
       "1979-01-02  270.417328\n",
       "1979-01-03  274.589325\n",
       "1979-01-04  274.608826\n",
       "1979-01-05  273.684906\n",
       "1979-01-06  272.691620\n",
       "...                ...\n",
       "2015-10-25  278.529205\n",
       "2015-10-26  278.306274\n",
       "2015-10-27  277.523102\n",
       "2015-10-28  276.555603\n",
       "2015-10-29  272.824921\n",
       "\n",
       "[13450 rows x 1 columns]"
      ]
     },
     "execution_count": 18,
     "metadata": {},
     "output_type": "execute_result"
    }
   ],
   "source": [
    "T2 = pd.read_csv('T2TimeSeries_' + location + '.csv')\n",
    "# Q2 = pd.read_csv('TF7d_Q2sequences_' + season1 + '.csv',header=None)\n",
    "T2['Time'] = T2['Time'].apply(pd.to_datetime, errors='coerce')\n",
    "TS = T2['Time']\n",
    "T2.set_index('Time', inplace=True)\n",
    "T2 = T2.asfreq('D')\n",
    "T2 = T2.fillna(0)\n",
    "T2# Vol = Vol['Volume']"
   ]
  },
  {
   "cell_type": "code",
   "execution_count": 19,
   "metadata": {
    "id": "ZjHO3fF5hcgf"
   },
   "outputs": [],
   "source": [
    "# X_train, X_test = Vol.iloc[:TS.shape[0]-int(TS.shape[0]*20/100),:30], Vol.iloc[-int(TS.shape[0]*20/100):,:30]\n",
    "# y_train, y_test = Vol.iloc[:TS.shape[0]-int(TS.shape[0]*20/100),:30], Vol.iloc[-int(TS.shape[0]*20/100):,:30]\n",
    "y_train = T2.iloc[:TS.shape[0]-int(TS.shape[0]*20/100),:]\n",
    "y_test = T2.iloc[-int(TS.shape[0]*20/100):,:]"
   ]
  },
  {
   "cell_type": "code",
   "execution_count": 20,
   "metadata": {
    "colab": {
     "base_uri": "https://localhost:8080/"
    },
    "id": "ixWJQLQPbOZn",
    "outputId": "73f9506c-f452-4815-dfe3-ad1430cec3e8"
   },
   "outputs": [
    {
     "data": {
      "text/plain": [
       "2690"
      ]
     },
     "execution_count": 20,
     "metadata": {},
     "output_type": "execute_result"
    }
   ],
   "source": [
    "int(TS.shape[0]*20/100)"
   ]
  },
  {
   "cell_type": "markdown",
   "metadata": {
    "id": "hecfzbsdWGwD"
   },
   "source": [
    "## SVR"
   ]
  },
  {
   "cell_type": "code",
   "execution_count": 21,
   "metadata": {
    "colab": {
     "base_uri": "https://localhost:8080/",
     "height": 424
    },
    "id": "E0g6gqGIu8ZQ",
    "outputId": "c5e06641-2c57-4f83-8dbf-7623d39edd95"
   },
   "outputs": [
    {
     "data": {
      "text/html": [
       "<div>\n",
       "<style scoped>\n",
       "    .dataframe tbody tr th:only-of-type {\n",
       "        vertical-align: middle;\n",
       "    }\n",
       "\n",
       "    .dataframe tbody tr th {\n",
       "        vertical-align: top;\n",
       "    }\n",
       "\n",
       "    .dataframe thead th {\n",
       "        text-align: right;\n",
       "    }\n",
       "</style>\n",
       "<table border=\"1\" class=\"dataframe\">\n",
       "  <thead>\n",
       "    <tr style=\"text-align: right;\">\n",
       "      <th></th>\n",
       "      <th>Var1</th>\n",
       "    </tr>\n",
       "  </thead>\n",
       "  <tbody>\n",
       "    <tr>\n",
       "      <th>2008-06-18</th>\n",
       "      <td>274.13356</td>\n",
       "    </tr>\n",
       "    <tr>\n",
       "      <th>2008-06-19</th>\n",
       "      <td>274.13356</td>\n",
       "    </tr>\n",
       "    <tr>\n",
       "      <th>2008-06-20</th>\n",
       "      <td>274.13356</td>\n",
       "    </tr>\n",
       "    <tr>\n",
       "      <th>2008-06-21</th>\n",
       "      <td>274.13356</td>\n",
       "    </tr>\n",
       "    <tr>\n",
       "      <th>2008-06-22</th>\n",
       "      <td>274.13356</td>\n",
       "    </tr>\n",
       "    <tr>\n",
       "      <th>...</th>\n",
       "      <td>...</td>\n",
       "    </tr>\n",
       "    <tr>\n",
       "      <th>2015-10-25</th>\n",
       "      <td>274.13356</td>\n",
       "    </tr>\n",
       "    <tr>\n",
       "      <th>2015-10-26</th>\n",
       "      <td>274.13356</td>\n",
       "    </tr>\n",
       "    <tr>\n",
       "      <th>2015-10-27</th>\n",
       "      <td>274.13356</td>\n",
       "    </tr>\n",
       "    <tr>\n",
       "      <th>2015-10-28</th>\n",
       "      <td>274.13356</td>\n",
       "    </tr>\n",
       "    <tr>\n",
       "      <th>2015-10-29</th>\n",
       "      <td>274.13356</td>\n",
       "    </tr>\n",
       "  </tbody>\n",
       "</table>\n",
       "<p>2690 rows × 1 columns</p>\n",
       "</div>"
      ],
      "text/plain": [
       "                 Var1\n",
       "2008-06-18  274.13356\n",
       "2008-06-19  274.13356\n",
       "2008-06-20  274.13356\n",
       "2008-06-21  274.13356\n",
       "2008-06-22  274.13356\n",
       "...               ...\n",
       "2015-10-25  274.13356\n",
       "2015-10-26  274.13356\n",
       "2015-10-27  274.13356\n",
       "2015-10-28  274.13356\n",
       "2015-10-29  274.13356\n",
       "\n",
       "[2690 rows x 1 columns]"
      ]
     },
     "execution_count": 21,
     "metadata": {},
     "output_type": "execute_result"
    }
   ],
   "source": [
    "from sktime.forecasting.base import ForecastingHorizon\n",
    "from sktime.forecasting.compose import make_reduction\n",
    "from sklearn.svm import SVR\n",
    "\n",
    "fh = ForecastingHorizon(y_test.index, is_relative=False)\n",
    "\n",
    "regressor = SVR(kernel='sigmoid')\n",
    "mdl = 'SVRsigmoid'\n",
    "forecaster = make_reduction(regressor, window_length=30, strategy=\"recursive\")\n",
    "forecaster.fit(y_train)\n",
    "y_pred = forecaster.predict(fh)\n",
    "y_pred"
   ]
  },
  {
   "cell_type": "code",
   "execution_count": 22,
   "metadata": {
    "id": "HmHJl3xH6zYk"
   },
   "outputs": [],
   "source": [
    "d = pd.DataFrame([])\n",
    "d = y_test\n",
    "np.savetxt('export2/BaselineModels_test_targetdata_T2F' + location + '.csv', d, delimiter=',')\n",
    "\n",
    "dp = pd.DataFrame([])\n",
    "dp = y_pred\n",
    "np.savetxt('export2/BaselineModels_test_predsdata_T2F_' + mdl + '_' + location + '.csv', dp, delimiter=',')"
   ]
  },
  {
   "cell_type": "markdown",
   "metadata": {
    "id": "wzystp1nWJUN"
   },
   "source": [
    "## GBDT"
   ]
  },
  {
   "cell_type": "code",
   "execution_count": 23,
   "metadata": {
    "colab": {
     "base_uri": "https://localhost:8080/",
     "height": 424
    },
    "id": "FCZ1_Pl7Ek79",
    "outputId": "d0f64a76-7826-47bd-a7e9-59da952aae79"
   },
   "outputs": [
    {
     "data": {
      "text/html": [
       "<div>\n",
       "<style scoped>\n",
       "    .dataframe tbody tr th:only-of-type {\n",
       "        vertical-align: middle;\n",
       "    }\n",
       "\n",
       "    .dataframe tbody tr th {\n",
       "        vertical-align: top;\n",
       "    }\n",
       "\n",
       "    .dataframe thead th {\n",
       "        text-align: right;\n",
       "    }\n",
       "</style>\n",
       "<table border=\"1\" class=\"dataframe\">\n",
       "  <thead>\n",
       "    <tr style=\"text-align: right;\">\n",
       "      <th></th>\n",
       "      <th>Var1</th>\n",
       "    </tr>\n",
       "  </thead>\n",
       "  <tbody>\n",
       "    <tr>\n",
       "      <th>2008-06-18</th>\n",
       "      <td>286.116552</td>\n",
       "    </tr>\n",
       "    <tr>\n",
       "      <th>2008-06-19</th>\n",
       "      <td>285.460331</td>\n",
       "    </tr>\n",
       "    <tr>\n",
       "      <th>2008-06-20</th>\n",
       "      <td>285.219003</td>\n",
       "    </tr>\n",
       "    <tr>\n",
       "      <th>2008-06-21</th>\n",
       "      <td>285.095801</td>\n",
       "    </tr>\n",
       "    <tr>\n",
       "      <th>2008-06-22</th>\n",
       "      <td>285.085253</td>\n",
       "    </tr>\n",
       "    <tr>\n",
       "      <th>...</th>\n",
       "      <td>...</td>\n",
       "    </tr>\n",
       "    <tr>\n",
       "      <th>2015-10-25</th>\n",
       "      <td>285.274606</td>\n",
       "    </tr>\n",
       "    <tr>\n",
       "      <th>2015-10-26</th>\n",
       "      <td>285.294244</td>\n",
       "    </tr>\n",
       "    <tr>\n",
       "      <th>2015-10-27</th>\n",
       "      <td>285.294244</td>\n",
       "    </tr>\n",
       "    <tr>\n",
       "      <th>2015-10-28</th>\n",
       "      <td>285.294244</td>\n",
       "    </tr>\n",
       "    <tr>\n",
       "      <th>2015-10-29</th>\n",
       "      <td>285.274606</td>\n",
       "    </tr>\n",
       "  </tbody>\n",
       "</table>\n",
       "<p>2690 rows × 1 columns</p>\n",
       "</div>"
      ],
      "text/plain": [
       "                  Var1\n",
       "2008-06-18  286.116552\n",
       "2008-06-19  285.460331\n",
       "2008-06-20  285.219003\n",
       "2008-06-21  285.095801\n",
       "2008-06-22  285.085253\n",
       "...                ...\n",
       "2015-10-25  285.274606\n",
       "2015-10-26  285.294244\n",
       "2015-10-27  285.294244\n",
       "2015-10-28  285.294244\n",
       "2015-10-29  285.274606\n",
       "\n",
       "[2690 rows x 1 columns]"
      ]
     },
     "execution_count": 23,
     "metadata": {},
     "output_type": "execute_result"
    }
   ],
   "source": [
    "from sktime.forecasting.base import ForecastingHorizon\n",
    "from sktime.forecasting.compose import make_reduction\n",
    "from sklearn.ensemble import GradientBoostingRegressor\n",
    "\n",
    "fh = ForecastingHorizon(y_test.index, is_relative=False)\n",
    "\n",
    "regressor = GradientBoostingRegressor()\n",
    "mdl = 'GBDT'\n",
    "forecaster = make_reduction(regressor, window_length=30, strategy=\"recursive\")\n",
    "forecaster.fit(y_train)\n",
    "y_pred = forecaster.predict(fh)\n",
    "y_pred"
   ]
  },
  {
   "cell_type": "code",
   "execution_count": 24,
   "metadata": {
    "id": "QDmkxaNMEk-P"
   },
   "outputs": [],
   "source": [
    "d = pd.DataFrame([])\n",
    "d = y_test\n",
    "np.savetxt('export2/BaselineModels_test_targetdata_T2F' + location + '.csv', d, delimiter=',')\n",
    "\n",
    "dp = pd.DataFrame([])\n",
    "dp = y_pred\n",
    "np.savetxt('export2/BaselineModels_test_predsdata_T2F_' + mdl + '_' + location + '.csv', dp, delimiter=',')"
   ]
  },
  {
   "cell_type": "markdown",
   "metadata": {
    "id": "NW4o4_4hWMDO"
   },
   "source": [
    "## RF"
   ]
  },
  {
   "cell_type": "code",
   "execution_count": 25,
   "metadata": {
    "colab": {
     "base_uri": "https://localhost:8080/",
     "height": 424
    },
    "id": "TmasfCy0JZTk",
    "outputId": "2497e5a5-e7a3-412b-f8c5-7c41781f742f"
   },
   "outputs": [
    {
     "data": {
      "text/html": [
       "<div>\n",
       "<style scoped>\n",
       "    .dataframe tbody tr th:only-of-type {\n",
       "        vertical-align: middle;\n",
       "    }\n",
       "\n",
       "    .dataframe tbody tr th {\n",
       "        vertical-align: top;\n",
       "    }\n",
       "\n",
       "    .dataframe thead th {\n",
       "        text-align: right;\n",
       "    }\n",
       "</style>\n",
       "<table border=\"1\" class=\"dataframe\">\n",
       "  <thead>\n",
       "    <tr style=\"text-align: right;\">\n",
       "      <th></th>\n",
       "      <th>Var1</th>\n",
       "    </tr>\n",
       "  </thead>\n",
       "  <tbody>\n",
       "    <tr>\n",
       "      <th>2008-06-18</th>\n",
       "      <td>286.221197</td>\n",
       "    </tr>\n",
       "    <tr>\n",
       "      <th>2008-06-19</th>\n",
       "      <td>286.171865</td>\n",
       "    </tr>\n",
       "    <tr>\n",
       "      <th>2008-06-20</th>\n",
       "      <td>285.741566</td>\n",
       "    </tr>\n",
       "    <tr>\n",
       "      <th>2008-06-21</th>\n",
       "      <td>285.345749</td>\n",
       "    </tr>\n",
       "    <tr>\n",
       "      <th>2008-06-22</th>\n",
       "      <td>284.990269</td>\n",
       "    </tr>\n",
       "    <tr>\n",
       "      <th>...</th>\n",
       "      <td>...</td>\n",
       "    </tr>\n",
       "    <tr>\n",
       "      <th>2015-10-25</th>\n",
       "      <td>285.369230</td>\n",
       "    </tr>\n",
       "    <tr>\n",
       "      <th>2015-10-26</th>\n",
       "      <td>285.378034</td>\n",
       "    </tr>\n",
       "    <tr>\n",
       "      <th>2015-10-27</th>\n",
       "      <td>285.365068</td>\n",
       "    </tr>\n",
       "    <tr>\n",
       "      <th>2015-10-28</th>\n",
       "      <td>285.369230</td>\n",
       "    </tr>\n",
       "    <tr>\n",
       "      <th>2015-10-29</th>\n",
       "      <td>285.378034</td>\n",
       "    </tr>\n",
       "  </tbody>\n",
       "</table>\n",
       "<p>2690 rows × 1 columns</p>\n",
       "</div>"
      ],
      "text/plain": [
       "                  Var1\n",
       "2008-06-18  286.221197\n",
       "2008-06-19  286.171865\n",
       "2008-06-20  285.741566\n",
       "2008-06-21  285.345749\n",
       "2008-06-22  284.990269\n",
       "...                ...\n",
       "2015-10-25  285.369230\n",
       "2015-10-26  285.378034\n",
       "2015-10-27  285.365068\n",
       "2015-10-28  285.369230\n",
       "2015-10-29  285.378034\n",
       "\n",
       "[2690 rows x 1 columns]"
      ]
     },
     "execution_count": 25,
     "metadata": {},
     "output_type": "execute_result"
    }
   ],
   "source": [
    "from sktime.forecasting.base import ForecastingHorizon\n",
    "from sktime.forecasting.compose import make_reduction\n",
    "from sklearn.ensemble import RandomForestRegressor\n",
    "\n",
    "fh = ForecastingHorizon(y_test.index, is_relative=False)\n",
    "\n",
    "regressor = RandomForestRegressor()\n",
    "mdl = 'RF'\n",
    "forecaster = make_reduction(regressor, window_length=30, strategy=\"recursive\")\n",
    "forecaster.fit(y_train)\n",
    "y_pred = forecaster.predict(fh)\n",
    "y_pred"
   ]
  },
  {
   "cell_type": "code",
   "execution_count": 26,
   "metadata": {
    "id": "LGFG0g2gJmNn"
   },
   "outputs": [],
   "source": [
    "d = pd.DataFrame([])\n",
    "d = y_test\n",
    "np.savetxt('export2/BaselineModels_test_targetdata_T2F' + location + '.csv', d, delimiter=',')\n",
    "\n",
    "dp = pd.DataFrame([])\n",
    "dp = y_pred\n",
    "np.savetxt('export2/BaselineModels_test_predsdata_T2F_' + mdl + '_' + location + '.csv', dp, delimiter=',')"
   ]
  },
  {
   "cell_type": "markdown",
   "metadata": {
    "id": "RUCQdMAFWXlO"
   },
   "source": [
    "## ExtraTrees"
   ]
  },
  {
   "cell_type": "code",
   "execution_count": 27,
   "metadata": {
    "colab": {
     "base_uri": "https://localhost:8080/",
     "height": 424
    },
    "id": "JvOY3c6kWXlP",
    "outputId": "e8503da6-8e5d-4053-c4f4-e6010cc9b460"
   },
   "outputs": [
    {
     "data": {
      "text/html": [
       "<div>\n",
       "<style scoped>\n",
       "    .dataframe tbody tr th:only-of-type {\n",
       "        vertical-align: middle;\n",
       "    }\n",
       "\n",
       "    .dataframe tbody tr th {\n",
       "        vertical-align: top;\n",
       "    }\n",
       "\n",
       "    .dataframe thead th {\n",
       "        text-align: right;\n",
       "    }\n",
       "</style>\n",
       "<table border=\"1\" class=\"dataframe\">\n",
       "  <thead>\n",
       "    <tr style=\"text-align: right;\">\n",
       "      <th></th>\n",
       "      <th>Var1</th>\n",
       "    </tr>\n",
       "  </thead>\n",
       "  <tbody>\n",
       "    <tr>\n",
       "      <th>2008-06-18</th>\n",
       "      <td>285.859334</td>\n",
       "    </tr>\n",
       "    <tr>\n",
       "      <th>2008-06-19</th>\n",
       "      <td>285.302585</td>\n",
       "    </tr>\n",
       "    <tr>\n",
       "      <th>2008-06-20</th>\n",
       "      <td>285.212805</td>\n",
       "    </tr>\n",
       "    <tr>\n",
       "      <th>2008-06-21</th>\n",
       "      <td>285.401711</td>\n",
       "    </tr>\n",
       "    <tr>\n",
       "      <th>2008-06-22</th>\n",
       "      <td>285.134720</td>\n",
       "    </tr>\n",
       "    <tr>\n",
       "      <th>...</th>\n",
       "      <td>...</td>\n",
       "    </tr>\n",
       "    <tr>\n",
       "      <th>2015-10-25</th>\n",
       "      <td>285.212846</td>\n",
       "    </tr>\n",
       "    <tr>\n",
       "      <th>2015-10-26</th>\n",
       "      <td>285.284174</td>\n",
       "    </tr>\n",
       "    <tr>\n",
       "      <th>2015-10-27</th>\n",
       "      <td>285.276022</td>\n",
       "    </tr>\n",
       "    <tr>\n",
       "      <th>2015-10-28</th>\n",
       "      <td>285.373222</td>\n",
       "    </tr>\n",
       "    <tr>\n",
       "      <th>2015-10-29</th>\n",
       "      <td>285.260796</td>\n",
       "    </tr>\n",
       "  </tbody>\n",
       "</table>\n",
       "<p>2690 rows × 1 columns</p>\n",
       "</div>"
      ],
      "text/plain": [
       "                  Var1\n",
       "2008-06-18  285.859334\n",
       "2008-06-19  285.302585\n",
       "2008-06-20  285.212805\n",
       "2008-06-21  285.401711\n",
       "2008-06-22  285.134720\n",
       "...                ...\n",
       "2015-10-25  285.212846\n",
       "2015-10-26  285.284174\n",
       "2015-10-27  285.276022\n",
       "2015-10-28  285.373222\n",
       "2015-10-29  285.260796\n",
       "\n",
       "[2690 rows x 1 columns]"
      ]
     },
     "execution_count": 27,
     "metadata": {},
     "output_type": "execute_result"
    }
   ],
   "source": [
    "from sktime.forecasting.base import ForecastingHorizon\n",
    "from sktime.forecasting.compose import make_reduction\n",
    "from sklearn.ensemble import ExtraTreesRegressor\n",
    "\n",
    "fh = ForecastingHorizon(y_test.index, is_relative=False)\n",
    "\n",
    "regressor = ExtraTreesRegressor()\n",
    "mdl = 'ET'\n",
    "forecaster = make_reduction(regressor, window_length=30, strategy=\"recursive\")\n",
    "forecaster.fit(y_train)\n",
    "y_pred = forecaster.predict(fh)\n",
    "y_pred"
   ]
  },
  {
   "cell_type": "code",
   "execution_count": 28,
   "metadata": {
    "id": "CLwfcAKVWXlP"
   },
   "outputs": [],
   "source": [
    "d = pd.DataFrame([])\n",
    "d = y_test\n",
    "np.savetxt('export2/BaselineModels_test_targetdata_T2F' + location + '.csv', d, delimiter=',')\n",
    "\n",
    "dp = pd.DataFrame([])\n",
    "dp = y_pred\n",
    "np.savetxt('export2/BaselineModels_test_predsdata_T2F_' + mdl + '_' + location + '.csv', dp, delimiter=',')"
   ]
  },
  {
   "cell_type": "markdown",
   "metadata": {
    "id": "hBGG9F4_WOfe"
   },
   "source": [
    "## ARIMA"
   ]
  },
  {
   "cell_type": "code",
   "execution_count": 29,
   "metadata": {
    "colab": {
     "base_uri": "https://localhost:8080/",
     "height": 424
    },
    "id": "xN4DeIEDElAk",
    "outputId": "1fbfd5d3-aa58-4404-a8b3-e4e75ba875f4"
   },
   "outputs": [
    {
     "data": {
      "text/html": [
       "<div>\n",
       "<style scoped>\n",
       "    .dataframe tbody tr th:only-of-type {\n",
       "        vertical-align: middle;\n",
       "    }\n",
       "\n",
       "    .dataframe tbody tr th {\n",
       "        vertical-align: top;\n",
       "    }\n",
       "\n",
       "    .dataframe thead th {\n",
       "        text-align: right;\n",
       "    }\n",
       "</style>\n",
       "<table border=\"1\" class=\"dataframe\">\n",
       "  <thead>\n",
       "    <tr style=\"text-align: right;\">\n",
       "      <th></th>\n",
       "      <th>Var1</th>\n",
       "    </tr>\n",
       "  </thead>\n",
       "  <tbody>\n",
       "    <tr>\n",
       "      <th>2008-06-18</th>\n",
       "      <td>287.082553</td>\n",
       "    </tr>\n",
       "    <tr>\n",
       "      <th>2008-06-19</th>\n",
       "      <td>286.051339</td>\n",
       "    </tr>\n",
       "    <tr>\n",
       "      <th>2008-06-20</th>\n",
       "      <td>285.102225</td>\n",
       "    </tr>\n",
       "    <tr>\n",
       "      <th>2008-06-21</th>\n",
       "      <td>284.587549</td>\n",
       "    </tr>\n",
       "    <tr>\n",
       "      <th>2008-06-22</th>\n",
       "      <td>284.216423</td>\n",
       "    </tr>\n",
       "    <tr>\n",
       "      <th>...</th>\n",
       "      <td>...</td>\n",
       "    </tr>\n",
       "    <tr>\n",
       "      <th>2015-10-25</th>\n",
       "      <td>273.113303</td>\n",
       "    </tr>\n",
       "    <tr>\n",
       "      <th>2015-10-26</th>\n",
       "      <td>273.113303</td>\n",
       "    </tr>\n",
       "    <tr>\n",
       "      <th>2015-10-27</th>\n",
       "      <td>273.113303</td>\n",
       "    </tr>\n",
       "    <tr>\n",
       "      <th>2015-10-28</th>\n",
       "      <td>273.113303</td>\n",
       "    </tr>\n",
       "    <tr>\n",
       "      <th>2015-10-29</th>\n",
       "      <td>273.113303</td>\n",
       "    </tr>\n",
       "  </tbody>\n",
       "</table>\n",
       "<p>2690 rows × 1 columns</p>\n",
       "</div>"
      ],
      "text/plain": [
       "                  Var1\n",
       "2008-06-18  287.082553\n",
       "2008-06-19  286.051339\n",
       "2008-06-20  285.102225\n",
       "2008-06-21  284.587549\n",
       "2008-06-22  284.216423\n",
       "...                ...\n",
       "2015-10-25  273.113303\n",
       "2015-10-26  273.113303\n",
       "2015-10-27  273.113303\n",
       "2015-10-28  273.113303\n",
       "2015-10-29  273.113303\n",
       "\n",
       "[2690 rows x 1 columns]"
      ]
     },
     "execution_count": 29,
     "metadata": {},
     "output_type": "execute_result"
    }
   ],
   "source": [
    "from sktime.forecasting.arima import AutoARIMA\n",
    "from sktime.forecasting.base import ForecastingHorizon\n",
    "from sktime.forecasting.compose import make_reduction\n",
    "\n",
    "fh = ForecastingHorizon(y_test.index, is_relative=False)\n",
    "\n",
    "mdl = 'ARIMA'\n",
    "forecaster = AutoARIMA(sp=7, suppress_warnings=True) \n",
    "forecaster.fit(y_train)\n",
    "y_pred = forecaster.predict(fh)\n",
    "y_pred"
   ]
  },
  {
   "cell_type": "code",
   "execution_count": 30,
   "metadata": {
    "colab": {
     "base_uri": "https://localhost:8080/",
     "height": 494
    },
    "id": "cVo7dYEaIJ5p",
    "outputId": "b50e8a2d-1e4f-468c-fe33-c2a4db9584ff"
   },
   "outputs": [
    {
     "data": {
      "text/html": [
       "<table class=\"simpletable\">\n",
       "<caption>SARIMAX Results</caption>\n",
       "<tr>\n",
       "  <th>Dep. Variable:</th>           <td>y</td>        <th>  No. Observations:  </th>    <td>10760</td>  \n",
       "</tr>\n",
       "<tr>\n",
       "  <th>Model:</th>           <td>SARIMAX(5, 0, 5)</td> <th>  Log Likelihood     </th> <td>-28479.002</td>\n",
       "</tr>\n",
       "<tr>\n",
       "  <th>Date:</th>            <td>Tue, 24 Jan 2023</td> <th>  AIC                </th>  <td>56982.003</td>\n",
       "</tr>\n",
       "<tr>\n",
       "  <th>Time:</th>                <td>20:18:49</td>     <th>  BIC                </th>  <td>57069.406</td>\n",
       "</tr>\n",
       "<tr>\n",
       "  <th>Sample:</th>             <td>01-02-1979</td>    <th>  HQIC               </th>  <td>57011.481</td>\n",
       "</tr>\n",
       "<tr>\n",
       "  <th></th>                   <td>- 06-17-2008</td>   <th>                     </th>      <td> </td>    \n",
       "</tr>\n",
       "<tr>\n",
       "  <th>Covariance Type:</th>        <td>opg</td>       <th>                     </th>      <td> </td>    \n",
       "</tr>\n",
       "</table>\n",
       "<table class=\"simpletable\">\n",
       "<tr>\n",
       "      <td></td>         <th>coef</th>     <th>std err</th>      <th>z</th>      <th>P>|z|</th>  <th>[0.025</th>    <th>0.975]</th>  \n",
       "</tr>\n",
       "<tr>\n",
       "  <th>intercept</th> <td>    4.7334</td> <td>    1.457</td> <td>    3.249</td> <td> 0.001</td> <td>    1.878</td> <td>    7.589</td>\n",
       "</tr>\n",
       "<tr>\n",
       "  <th>ar.L1</th>     <td>   -0.1730</td> <td>    0.424</td> <td>   -0.408</td> <td> 0.683</td> <td>   -1.003</td> <td>    0.657</td>\n",
       "</tr>\n",
       "<tr>\n",
       "  <th>ar.L2</th>     <td>    0.7333</td> <td>    0.316</td> <td>    2.320</td> <td> 0.020</td> <td>    0.114</td> <td>    1.353</td>\n",
       "</tr>\n",
       "<tr>\n",
       "  <th>ar.L3</th>     <td>    0.7965</td> <td>    0.096</td> <td>    8.293</td> <td> 0.000</td> <td>    0.608</td> <td>    0.985</td>\n",
       "</tr>\n",
       "<tr>\n",
       "  <th>ar.L4</th>     <td>    0.1583</td> <td>    0.308</td> <td>    0.515</td> <td> 0.607</td> <td>   -0.444</td> <td>    0.761</td>\n",
       "</tr>\n",
       "<tr>\n",
       "  <th>ar.L5</th>     <td>   -0.5325</td> <td>    0.231</td> <td>   -2.304</td> <td> 0.021</td> <td>   -0.985</td> <td>   -0.080</td>\n",
       "</tr>\n",
       "<tr>\n",
       "  <th>ma.L1</th>     <td>    1.2507</td> <td>    0.425</td> <td>    2.946</td> <td> 0.003</td> <td>    0.419</td> <td>    2.083</td>\n",
       "</tr>\n",
       "<tr>\n",
       "  <th>ma.L2</th>     <td>    0.3413</td> <td>    0.160</td> <td>    2.135</td> <td> 0.033</td> <td>    0.028</td> <td>    0.655</td>\n",
       "</tr>\n",
       "<tr>\n",
       "  <th>ma.L3</th>     <td>   -0.7026</td> <td>    0.054</td> <td>  -12.933</td> <td> 0.000</td> <td>   -0.809</td> <td>   -0.596</td>\n",
       "</tr>\n",
       "<tr>\n",
       "  <th>ma.L4</th>     <td>   -0.9156</td> <td>    0.310</td> <td>   -2.957</td> <td> 0.003</td> <td>   -1.522</td> <td>   -0.309</td>\n",
       "</tr>\n",
       "<tr>\n",
       "  <th>ma.L5</th>     <td>   -0.2025</td> <td>    0.093</td> <td>   -2.184</td> <td> 0.029</td> <td>   -0.384</td> <td>   -0.021</td>\n",
       "</tr>\n",
       "<tr>\n",
       "  <th>sigma2</th>    <td>   11.6579</td> <td>    0.105</td> <td>  110.603</td> <td> 0.000</td> <td>   11.451</td> <td>   11.864</td>\n",
       "</tr>\n",
       "</table>\n",
       "<table class=\"simpletable\">\n",
       "<tr>\n",
       "  <th>Ljung-Box (L1) (Q):</th>     <td>0.08</td> <th>  Jarque-Bera (JB):  </th> <td>6266.84</td>\n",
       "</tr>\n",
       "<tr>\n",
       "  <th>Prob(Q):</th>                <td>0.78</td> <th>  Prob(JB):          </th>  <td>0.00</td>  \n",
       "</tr>\n",
       "<tr>\n",
       "  <th>Heteroskedasticity (H):</th> <td>1.08</td> <th>  Skew:              </th>  <td>0.34</td>  \n",
       "</tr>\n",
       "<tr>\n",
       "  <th>Prob(H) (two-sided):</th>    <td>0.02</td> <th>  Kurtosis:          </th>  <td>6.68</td>  \n",
       "</tr>\n",
       "</table><br/><br/>Warnings:<br/>[1] Covariance matrix calculated using the outer product of gradients (complex-step)."
      ],
      "text/plain": [
       "<class 'statsmodels.iolib.summary.Summary'>\n",
       "\"\"\"\n",
       "                               SARIMAX Results                                \n",
       "==============================================================================\n",
       "Dep. Variable:                      y   No. Observations:                10760\n",
       "Model:               SARIMAX(5, 0, 5)   Log Likelihood              -28479.002\n",
       "Date:                Tue, 24 Jan 2023   AIC                          56982.003\n",
       "Time:                        20:18:49   BIC                          57069.406\n",
       "Sample:                    01-02-1979   HQIC                         57011.481\n",
       "                         - 06-17-2008                                         \n",
       "Covariance Type:                  opg                                         \n",
       "==============================================================================\n",
       "                 coef    std err          z      P>|z|      [0.025      0.975]\n",
       "------------------------------------------------------------------------------\n",
       "intercept      4.7334      1.457      3.249      0.001       1.878       7.589\n",
       "ar.L1         -0.1730      0.424     -0.408      0.683      -1.003       0.657\n",
       "ar.L2          0.7333      0.316      2.320      0.020       0.114       1.353\n",
       "ar.L3          0.7965      0.096      8.293      0.000       0.608       0.985\n",
       "ar.L4          0.1583      0.308      0.515      0.607      -0.444       0.761\n",
       "ar.L5         -0.5325      0.231     -2.304      0.021      -0.985      -0.080\n",
       "ma.L1          1.2507      0.425      2.946      0.003       0.419       2.083\n",
       "ma.L2          0.3413      0.160      2.135      0.033       0.028       0.655\n",
       "ma.L3         -0.7026      0.054    -12.933      0.000      -0.809      -0.596\n",
       "ma.L4         -0.9156      0.310     -2.957      0.003      -1.522      -0.309\n",
       "ma.L5         -0.2025      0.093     -2.184      0.029      -0.384      -0.021\n",
       "sigma2        11.6579      0.105    110.603      0.000      11.451      11.864\n",
       "===================================================================================\n",
       "Ljung-Box (L1) (Q):                   0.08   Jarque-Bera (JB):              6266.84\n",
       "Prob(Q):                              0.78   Prob(JB):                         0.00\n",
       "Heteroskedasticity (H):               1.08   Skew:                             0.34\n",
       "Prob(H) (two-sided):                  0.02   Kurtosis:                         6.68\n",
       "===================================================================================\n",
       "\n",
       "Warnings:\n",
       "[1] Covariance matrix calculated using the outer product of gradients (complex-step).\n",
       "\"\"\""
      ]
     },
     "execution_count": 30,
     "metadata": {},
     "output_type": "execute_result"
    }
   ],
   "source": [
    "forecaster.summary()"
   ]
  },
  {
   "cell_type": "code",
   "execution_count": 31,
   "metadata": {
    "id": "bkubuJ8aIJ3V"
   },
   "outputs": [],
   "source": [
    "mdl = 'SARIMAX'\n",
    "d = pd.DataFrame([])\n",
    "d = y_test\n",
    "np.savetxt('export2/BaselineModels_test_targetdata_T2F' + location + '.csv', d, delimiter=',')\n",
    "\n",
    "dp = pd.DataFrame([])\n",
    "dp = y_pred\n",
    "np.savetxt('export2/BaselineModels_test_predsdata_T2F_' + mdl + '_' + location + '.csv', dp, delimiter=',')"
   ]
  },
  {
   "cell_type": "code",
   "execution_count": 32,
   "metadata": {
    "id": "Tdnh8h5PaPHo"
   },
   "outputs": [
    {
     "data": {
      "text/plain": [
       "'Bethel'"
      ]
     },
     "execution_count": 32,
     "metadata": {},
     "output_type": "execute_result"
    }
   ],
   "source": [
    "location"
   ]
  },
  {
   "cell_type": "code",
   "execution_count": null,
   "metadata": {},
   "outputs": [],
   "source": []
  }
 ],
 "metadata": {
  "colab": {
   "collapsed_sections": [],
   "machine_shape": "hm",
   "provenance": []
  },
  "gpuClass": "standard",
  "kernelspec": {
   "display_name": "Python 3 (ipykernel)",
   "language": "python",
   "name": "python3"
  },
  "language_info": {
   "codemirror_mode": {
    "name": "ipython",
    "version": 3
   },
   "file_extension": ".py",
   "mimetype": "text/x-python",
   "name": "python",
   "nbconvert_exporter": "python",
   "pygments_lexer": "ipython3",
   "version": "3.7.12"
  }
 },
 "nbformat": 4,
 "nbformat_minor": 1
}
